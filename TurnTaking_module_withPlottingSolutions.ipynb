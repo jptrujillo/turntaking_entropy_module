{
 "cells": [
  {
   "cell_type": "markdown",
   "id": "972f1380",
   "metadata": {},
   "source": [
    "<center><h1> Analyzing Multi-Party Turn-Taking Behavior </h1>\n",
    "\n",
    "\n",
    "<h4> James Trujillo ( j.p.trujillo@uva.nl )<br>\n",
    "    Updated: 04-23-2024 </h4>\n",
    "    \n",
    "<img src=\"./images/envision_banner.png\" alt=\"isolated\" width=\"300\"/> \n",
    "\n",
    "<h3> Info documents </h3>\n",
    "This module gives an introduction to analyzing the turn-taking behavior of a group of individuals. We'll use manual annotations of speech behavior, quantify the timing of turn transitions as gaps and overlaps between speakers, and look at some ways we can perform additional analyses, such as taking the entropy of turn-transitions.\n",
    "<br><br>\n",
    "\n",
    "<b>Packages:</b>\n",
    "    \n",
    "* pympi\n",
    "\n",
    "* antropy\n",
    "\n",
    "* SciPy\n",
    "<br><br>\n",
    " \n",
    "    \n",
    "<b>Module citation: </b>\n",
    "Trujillo, J.P. (2024-04-23). <i> Analyzing Multi-Party Turn-Taking Behavior </i> \\[day you visited the site]. Retrieved from: https://envisionbox.org/turntaking_entropy.html \n",
    "<br>\n",
    "\n",
    "<b>Location Repository:</b>\n",
    "\n",
    "https://github.com/jptrujillo/turntaking_entropy_module\n",
    "<br><br>\n",
    "\n",
    " \n",
    "<b> Note on automatic utterance extraction:</b>\n",
    "This module is partially based on the processing and analysis pipeline described in a previous publication (see below). The OSF project for this article also contains code for automatically extracting and processing single utterances from the audio stream. Note that this does require separate audio streams (e.g., from separate microphones) for each speaker. Code available at:  https://osf.io/bvm56/?view_only=7165d0c25f9344a592685f4bae0c1bf7\n",
    "\n",
    "* Trujillo J.P., Levinson S.C., Holler J. (2021) Visual Information in Computer-Mediated Interaction Matters: Investigating the Association Between the Availability of Gesture and Turn Transition Timing in Conversation. In: Kurosu M. (eds) Human-Computer Interaction. Design and User Experience Case Studies. HCII 2021. Lecture Notes in Computer Science, vol 12764. Springer, Cham. https://doi.org/10.1007/978-3-030-78468-3_44\n",
    "Open Access link: https://pure.mpg.de/rest/items/item_3347812/component/file_3347813/content\n",
    "<br><br>\n",
    "\n",
    "\n",
    "<h3>Introduction</h3>\n",
    "Turn-taking is a fundamental aspect of human communication, and takes place quite rapidly, with turn transitions (i.e., the time between one speaker's utterance ending and the next speaker's utterance beginning) often on the scale of ~200ms (Stivers et al., doi:10.1073pnas.0903616106%20pna/). This timing is important not only for fast-pace information exchange, but is socially meaningful, as longer-than-expected inter-speaker gaps can be interpreted as signalling a dispreferred response (Kendrick & Torreira 2015  doi: 10.1080/0163853X.2014.955997). <br>\n",
    "Beyond theoretical interest, quantifying turn-taking behavior can be interesting for understanding group dynamics. One study suggests that smoother turn transitions (i.e., shorter gaps, shorter overlaps) are more associated with collaborative behaviors compared to conflict behaviors (Kim et al., 2015, INTERSPEECH). Similarly, Pincus & Guastello (2005; DOI: 10.1177/1046496405280864) used non-linear dynamics approaches to show that information theoretic patterns in turn-taking behavior correlate with self-report measures of group dynamics (e.g., leadership, conflict). More recently, Hamish et al., (2023: https://escholarship.org/uc/item/2hb5k9fx ) have examined turn-taking entropy and critical instability (also described in this module) in relation to collaborative problem solving.\n"
   ]
  },
  {
   "cell_type": "code",
   "execution_count": 1,
   "id": "5f343cc2",
   "metadata": {},
   "outputs": [],
   "source": [
    "from parselmouth.praat import call\n",
    "import os\n",
    "import pympi\n",
    "from tabulate import tabulate\n",
    "import numpy as np\n",
    "import pandas as pd\n",
    "import matplotlib.pyplot as plt\n",
    "from scipy import signal\n"
   ]
  },
  {
   "cell_type": "code",
   "execution_count": 2,
   "id": "28ba3432",
   "metadata": {},
   "outputs": [],
   "source": [
    " \n",
    "def get_multispeaker_transitions(utterances_1, utterances_2, utterances_3):\n",
    "    # set max distance between them to be 2s, then find the closest occurence in\n",
    "    # second dataframe. Max distance is based on Heldner & Edlund 2010\n",
    "    # output times are in ms\n",
    "    \n",
    "    speaker_count = 3\n",
    "    if not utterances_1:\n",
    "        speaker_count -=1\n",
    "    if not utterances_2:\n",
    "        speaker_count -=1\n",
    "    if not utterances_3:\n",
    "        speaker_count -=1\n",
    "    \n",
    "    if speaker_count < 2: \n",
    "        trans_dur = np.nan\n",
    "        gap_dur = np.nan\n",
    "        utterance_time_trans = np.nan\n",
    "        utterance_time_gap = np.nan\n",
    "    else:\n",
    "        trans_dur1, gap_dur1, utterance_time_trans1, utterance_time_gap1, overlap_dur1, utterance_time_overlap1,timestamp1 = get_gaps_overlaps(\n",
    "          utterances_1, utterances_2, utterances_3)\n",
    "        trans_dur2, gap_dur2, utterance_time_trans2, utterance_time_gap2, overlap_dur2, utterance_time_overlap2,timestamp2 = get_gaps_overlaps(\n",
    "          utterances_2, utterances_1, utterances_3) \n",
    "        trans_dur3, gap_dur3, utterance_time_trans3, utterance_time_gap3, overlap_dur3, utterance_time_overlap3,timestamp3 = get_gaps_overlaps(\n",
    "          utterances_3, utterances_2, utterances_1) \n",
    "        \n",
    "    \n",
    "        print(\"Turn Transition Statistics for Participant 1\")\n",
    "        get_turn_trans_stats(trans_dur1,gap_dur1, overlap_dur1)\n",
    "        print(\"Turn Transition Statistics for Participant 2\")\n",
    "        get_turn_trans_stats(trans_dur2,gap_dur2, overlap_dur2)\n",
    "        print(\"Turn Transition Statistics for Participant 3\")\n",
    "        get_turn_trans_stats(trans_dur3,gap_dur3, overlap_dur3)\n",
    "        \n",
    "        # these will be used in the dataframe to indicate which speaker we're talking about\n",
    "        p1 = [\"1\"]*len(trans_dur1)\n",
    "        p2 = [\"2\"]*len(trans_dur2)\n",
    "        p3 = [\"3\"]*len(trans_dur3)\n",
    "        \n",
    "        participant = p1 + p2 + p3\n",
    "        timestamp = timestamp1 + timestamp2 + timestamp3\n",
    "\n",
    "        # now we need to stack the utterance data\n",
    "        trans_dur = trans_dur1 + trans_dur2 + trans_dur3\n",
    "        utterance_time_trans = utterance_time_trans1 + utterance_time_trans2 + utterance_time_trans3\n",
    "        \n",
    "        df = pd.DataFrame(np.column_stack([participant,timestamp,trans_dur, utterance_time_trans]),\n",
    "                               columns=['participant', 'timestamp','transition_duration','utterance_duration']\n",
    "                               )\n",
    "        \n",
    "        return df\n",
    "        \n",
    "        \n",
    "def get_gaps_overlaps(utterances_1, utterances_2, utterances_3):\n",
    "    # this gets the utterance and turn-transition speaker from the perspective of one speaker\n",
    "    # It doesn't matter what order the second two are in, as we just care about the averages in \n",
    "    # the end anyway\n",
    "    trans_dur = []\n",
    "    utterance_time_trans = []\n",
    "    timestamp=[]\n",
    "\n",
    "    for u_idx,u in enumerate(utterances_1):\n",
    "        # here we want to get the difference between this utterance's offset (u[1]) and all onsets from the other two speakers\n",
    "        diffs2 = [abs(u[1] - u2[0]) for u2 in utterances_2]\n",
    "        diffs3 = [abs(u[1] - u3[0]) for u3 in utterances_3]\n",
    "\n",
    "        min_dif2 = np.argmin(diffs2)\n",
    "        min_dif3 = np.argmin(diffs3)        \n",
    "\n",
    "        # also get within-speaker differences\n",
    "        # we get this to make sure our inter-speaker differences are less than this\n",
    "        # otherwise, we may not be getting the turn transition from this utterance\n",
    "        if u_idx < len(utterances_1)-1:\n",
    "            min_pause = utterances_1[u_idx+1][0] - u[1]\n",
    "        else:\n",
    "            # if this is not the last utterance, we ignore this\n",
    "            min_pause = min([diffs2[min_dif2],diffs3[min_dif3]]) +1\n",
    "        # is there an utterance from p2 or p3 starting within 2s of this utterance from p1?\n",
    "\n",
    "        if diffs2[min_dif2] < 2000 and diffs2[min_dif2] < min_pause:\n",
    "            trans_dur.append(int(utterances_2[min_dif2][0] - u[1]))\n",
    "            utterance_time_trans.append(int(utterances_1[u_idx][1] - utterances_1[u_idx][0]))\n",
    "            timestamp.append(int(utterances_2[min_dif2][0]))\n",
    "        if diffs3[min_dif3] < 2000 and diffs3[min_dif3] < min_pause:\n",
    "            trans_dur.append(int(utterances_3[min_dif3][0] - u[1]))\n",
    "            utterance_time_trans.append(int(utterances_1[u_idx][1] - utterances_1[u_idx][0]))\n",
    "            timestamp.append(int(utterances_3[min_dif3][0]))\n",
    "            \n",
    "    # finally, we want to separate these values into gaps and overlaps\n",
    "    gap_dur = []\n",
    "    overlap_dur = []\n",
    "    utterance_time_gap = []\n",
    "    utterance_time_overlap = []\n",
    "    for idx, val in enumerate(trans_dur):\n",
    "        if val > 0:\n",
    "            gap_dur.append(val)\n",
    "            utterance_time_gap.append(int(utterance_time_trans[idx]))\n",
    "        elif val <= 0:\n",
    "            overlap_dur.append(val)\n",
    "            utterance_time_overlap.append(int(utterance_time_trans[idx]))\n",
    "\n",
    "    return trans_dur, gap_dur, utterance_time_trans, utterance_time_gap, overlap_dur, utterance_time_overlap,timestamp\n",
    "        "
   ]
  },
  {
   "cell_type": "markdown",
   "id": "48107607",
   "metadata": {},
   "source": [
    "This function just gets us some summary stats for the turn taking behavior"
   ]
  },
  {
   "cell_type": "code",
   "execution_count": 3,
   "id": "cd41d83c",
   "metadata": {},
   "outputs": [],
   "source": [
    "def get_turn_trans_stats(transitions, gaps, overlaps):\n",
    "    if transitions and not np.all(np.isnan(transitions)):\n",
    "        Gap_freq = len(gaps)/len(transitions)\n",
    "        Overlap_freq = len(overlaps)/len(transitions)\n",
    "    else:\n",
    "        Gap_freq = 0\n",
    "        Overlap_freq = 0\n",
    "    turn_data = [['turn transition mean', np.mean(transitions)],\n",
    "                 ['turn transition SD', np.std(transitions)],\n",
    "                 ['turn transition median',np.median(transitions)],\n",
    "                 ['Gap mean', np.mean(gaps)],\n",
    "                 ['Gap SD',np.std(gaps)],\n",
    "                 ['Gap median',  np.median(gaps)],\n",
    "                 ['Gap freq. (%)',Gap_freq],\n",
    "                 ['Overlap mean', np.mean(overlaps)],\n",
    "                 ['Overlap SD',np.std(overlaps)],\n",
    "                 ['Overlap median',  np.median(overlaps)],\n",
    "                 ['Overlap freq. (%)',Overlap_freq],]\n",
    "    \n",
    "    print(tabulate(turn_data, headers=['Stat','Value']))"
   ]
  },
  {
   "cell_type": "markdown",
   "id": "a0b8da18-9463-4cee-b8c7-4a3b38c36714",
   "metadata": {},
   "source": [
    "## Descriptive Statistics\n",
    "Let's see what we can learn just from these turn transition times. \n",
    "Several of these measures can inform us about speaker dominance. Who's taking and holding the floor the most? "
   ]
  },
  {
   "cell_type": "code",
   "execution_count": 4,
   "id": "3adc658b",
   "metadata": {},
   "outputs": [
    {
     "name": "stdout",
     "output_type": "stream",
     "text": [
      "Turn Transition Statistics for Participant 1\n",
      "Stat                          Value\n",
      "----------------------  -----------\n",
      "turn transition mean       4.25794\n",
      "turn transition SD       667.521\n",
      "turn transition median    25\n",
      "Gap mean                 439.965\n",
      "Gap SD                   439.934\n",
      "Gap median               304.5\n",
      "Gap freq. (%)              0.563492\n",
      "Overlap mean            -558.2\n",
      "Overlap SD               457.736\n",
      "Overlap median          -494\n",
      "Overlap freq. (%)          0.436508\n",
      "Turn Transition Statistics for Participant 2\n",
      "Stat                          Value\n",
      "----------------------  -----------\n",
      "turn transition mean      42.6245\n",
      "turn transition SD       688.131\n",
      "turn transition median    49\n",
      "Gap mean                 435.401\n",
      "Gap SD                   467.993\n",
      "Gap median               249\n",
      "Gap freq. (%)              0.601533\n",
      "Overlap mean            -550.317\n",
      "Overlap SD               522.741\n",
      "Overlap median          -389\n",
      "Overlap freq. (%)          0.398467\n",
      "Turn Transition Statistics for Participant 3\n",
      "Stat                          Value\n",
      "----------------------  -----------\n",
      "turn transition mean     -89.9789\n",
      "turn transition SD       789.032\n",
      "turn transition median    18\n",
      "Gap mean                 457.444\n",
      "Gap SD                   468.884\n",
      "Gap median               332\n",
      "Gap freq. (%)              0.523207\n",
      "Overlap mean            -690.69\n",
      "Overlap SD               612.205\n",
      "Overlap median          -467\n",
      "Overlap freq. (%)          0.476793\n"
     ]
    }
   ],
   "source": [
    "annot_dir = \"./annotations/\" \n",
    "\n",
    "annotation_files = os.listdir(annot_dir)\n",
    "eafob = pympi.Elan.Eaf(annot_dir + annotation_files[0])\n",
    "\n",
    "\n",
    "utterances_1 = [annotation for annotation in eafob.get_annotation_data_for_tier(\"Participant1\")]\n",
    "utterances_2 = [annotation for annotation in eafob.get_annotation_data_for_tier(\"Participant2\")]\n",
    "utterances_3 = [annotation for annotation in eafob.get_annotation_data_for_tier(\"Participant3\")]\n",
    "\n",
    "df = get_multispeaker_transitions(utterances_1, utterances_2, utterances_3)"
   ]
  },
  {
   "cell_type": "code",
   "execution_count": 5,
   "id": "67233ffb-72b7-4a22-8f2c-eb7344a7ee69",
   "metadata": {},
   "outputs": [
    {
     "data": {
      "image/png": "[encoded data removed]",
      "text/plain": [
       "<Figure size 432x288 with 1 Axes>"
      ]
     },
     "metadata": {
      "needs_background": "light"
     },
     "output_type": "display_data"
    }
   ],
   "source": [
    "dur_1 = pd.to_numeric(df[df[\"participant\"]==\"1\"][\"utterance_duration\"])\n",
    "dur_2 = pd.to_numeric(df[df[\"participant\"]==\"2\"][\"utterance_duration\"])\n",
    "dur_3 = pd.to_numeric(df[df[\"participant\"]==\"3\"][\"utterance_duration\"])\n",
    "\n",
    "plt.boxplot([dur_1, dur_2, dur_3])\n",
    "plt.show()"
   ]
  },
  {
   "cell_type": "code",
   "execution_count": 6,
   "id": "6906ac05",
   "metadata": {},
   "outputs": [
    {
     "data": {
      "image/png": "[encoded data removed]",
      "text/plain": [
       "<Figure size 432x288 with 1 Axes>"
      ]
     },
     "metadata": {
      "needs_background": "light"
     },
     "output_type": "display_data"
    }
   ],
   "source": [
    "df.transition_duration = pd.to_numeric(df.transition_duration, errors='coerce')\n",
    "\n",
    "# plotting\n",
    "tt_1 = df[df[\"participant\"]==\"1\"][\"transition_duration\"]\n",
    "tt_2 = df[df[\"participant\"]==\"2\"][\"transition_duration\"]\n",
    "tt_3 = df[df[\"participant\"]==\"3\"][\"transition_duration\"]\n",
    "plt.hist([tt_1,tt_2,tt_3], \n",
    "         alpha=0.5, bins=25, \n",
    "         label=[\"speaker 1\",\"speaker 2\",\"speaker 3\"])\n",
    "plt.legend(loc='upper right')\n",
    "plt.show()\n"
   ]
  },
  {
   "cell_type": "markdown",
   "id": "3a1825cf",
   "metadata": {},
   "source": [
    "The above output shows the turn transition information for each person in our interaction. Remember that each of the values are based on the transitions <i>from</i> this speaker's uterance. So for example, speaker 1 has a gap frequency of 56%, and an overlap frequency of 66%. This means that when speaker 1 finishes an utterance, s/he is \"interrupted\" 44% of the time (on average by 558ms), but typically there is a gap of 439ms before the next speaker begins their untterance. <br>\n",
    "This information can already be useful for looking into how individual speakers behave with one another. One way to proceed with this data would be to simply take these summary values, per individual, per group, and statistically compare groups with one another. Do certain groups have smoother turn transition timings? We can also correlate the turn timings with other information, such as KAI scores. "
   ]
  },
  {
   "cell_type": "markdown",
   "id": "a02f8733",
   "metadata": {},
   "source": [
    "## Entropy of Turn Timing\n",
    "Another way to capture the dynamics of turn-taking behavior is to look at Approximate Entropy. In order to have an idea of what this provides us, let's consider the statistics output above. In a perfectly 'stable' back-and-forth interaction, each turn transition could be approximately 36ms, across the entire interaction. We would then get a mean turn transition time of 4ms, with a SD of 667ms (as seen above for speaker 1 -- reflecting the tendency around 0). However, it may be that these values change over the course of the interaction, and knowing the mean won't necessarily let you accurately predict the next transition time. The latter case is an example of higher entropy. "
   ]
  },
  {
   "cell_type": "code",
   "execution_count": 7,
   "id": "5715d883",
   "metadata": {},
   "outputs": [],
   "source": [
    "import antropy as ant"
   ]
  },
  {
   "cell_type": "code",
   "execution_count": 8,
   "id": "4b84fcd4",
   "metadata": {},
   "outputs": [
    {
     "data": {
      "text/html": [
       "<div>\n",
       "<style scoped>\n",
       "    .dataframe tbody tr th:only-of-type {\n",
       "        vertical-align: middle;\n",
       "    }\n",
       "\n",
       "    .dataframe tbody tr th {\n",
       "        vertical-align: top;\n",
       "    }\n",
       "\n",
       "    .dataframe thead th {\n",
       "        text-align: right;\n",
       "    }\n",
       "</style>\n",
       "<table border=\"1\" class=\"dataframe\">\n",
       "  <thead>\n",
       "    <tr style=\"text-align: right;\">\n",
       "      <th></th>\n",
       "      <th>participant</th>\n",
       "      <th>timestamp</th>\n",
       "      <th>transition_duration</th>\n",
       "      <th>utterance_duration</th>\n",
       "    </tr>\n",
       "  </thead>\n",
       "  <tbody>\n",
       "    <tr>\n",
       "      <th>513</th>\n",
       "      <td>3</td>\n",
       "      <td>5910</td>\n",
       "      <td>520</td>\n",
       "      <td>1090</td>\n",
       "    </tr>\n",
       "    <tr>\n",
       "      <th>252</th>\n",
       "      <td>2</td>\n",
       "      <td>9480</td>\n",
       "      <td>690</td>\n",
       "      <td>2880</td>\n",
       "    </tr>\n",
       "    <tr>\n",
       "      <th>0</th>\n",
       "      <td>1</td>\n",
       "      <td>10810</td>\n",
       "      <td>20</td>\n",
       "      <td>1310</td>\n",
       "    </tr>\n",
       "    <tr>\n",
       "      <th>253</th>\n",
       "      <td>2</td>\n",
       "      <td>11525</td>\n",
       "      <td>5</td>\n",
       "      <td>710</td>\n",
       "    </tr>\n",
       "    <tr>\n",
       "      <th>1</th>\n",
       "      <td>1</td>\n",
       "      <td>20350</td>\n",
       "      <td>925</td>\n",
       "      <td>7900</td>\n",
       "    </tr>\n",
       "  </tbody>\n",
       "</table>\n",
       "</div>"
      ],
      "text/plain": [
       "    participant  timestamp  transition_duration utterance_duration\n",
       "513           3       5910                  520               1090\n",
       "252           2       9480                  690               2880\n",
       "0             1      10810                   20               1310\n",
       "253           2      11525                    5                710\n",
       "1             1      20350                  925               7900"
      ]
     },
     "execution_count": 8,
     "metadata": {},
     "output_type": "execute_result"
    }
   ],
   "source": [
    "# first we need to sort this into a proper timeseries, disregarding individual IDs\n",
    "df.timestamp = pd.to_numeric(df.timestamp, errors='coerce')\n",
    "df.transition_duration = pd.to_numeric(df.transition_duration, errors='coerce')\n",
    "\n",
    "sort_df = df.sort_values(by=[\"timestamp\"], ascending=True)\n",
    "\n",
    "sort_df.head()"
   ]
  },
  {
   "cell_type": "code",
   "execution_count": 9,
   "id": "704d7683",
   "metadata": {},
   "outputs": [
    {
     "name": "stdout",
     "output_type": "stream",
     "text": [
      "1.95732579813899\n"
     ]
    }
   ],
   "source": [
    "# Calculate Approximate entropy\n",
    "print(ant.sample_entropy(sort_df[\"transition_duration\"]))"
   ]
  },
  {
   "cell_type": "markdown",
   "id": "41d97a7c",
   "metadata": {},
   "source": [
    "Aside from the general entropy across the whole session, which we could compare across groups or correlate with personal or group characteristics, we can also look at the change in entropy over time. We'll split the session into 4 minute windows to assess entropy across the session.<br>\n",
    "\n",
    "For the analysis, we'll use the categorical data corresponding to the \"transitioning speaker\" and calculate Permutation Entropy. Permutation entropy captures the ordering of values in a time-series. In this case, we want the complexity with which the group switches from one speaker to the next. Is it always speaker 1 followed by speaker 2, and vice versa? This would be low entropy. Or do we see all possible orders; speaker 3, then 1, followed by 3 again, then 2.. The more unpredictable the switching, the higher the entropy.<br>"
   ]
  },
  {
   "cell_type": "code",
   "execution_count": 10,
   "id": "57f4d644",
   "metadata": {},
   "outputs": [
    {
     "data": {
      "image/png": "[encoded data removed]",
      "text/plain": [
       "<Figure size 432x288 with 1 Axes>"
      ]
     },
     "metadata": {
      "needs_background": "light"
     },
     "output_type": "display_data"
    }
   ],
   "source": [
    "tt_entropy = []\n",
    "\n",
    "window_length = (1000*60)*4 #written out just to make the window length easily understandable\n",
    "\n",
    "window_start = 0\n",
    "window_end = window_length \n",
    "while window_end < sort_df[\"timestamp\"][len(sort_df)-1]   :\n",
    "    # get data for this time window\n",
    "    window = sort_df[(sort_df[\"timestamp\"] >window_start)&(sort_df[\"timestamp\"] <window_end)]\n",
    "    # calculate permutation entropy\n",
    "    tt_entropy.append(ant.perm_entropy(window[\"participant\"], normalize=True))\n",
    "    # shift the window forward\n",
    "    window_start = window_end\n",
    "    window_end += window_length\n",
    "    \n",
    "# now plot the entropy over time\n",
    "plt.scatter([\"1-4\",\"5-8\",\"9-11\",\"12-15\",\"16-19\"],tt_entropy)\n",
    "plt.title(\"Entropy of Speaker Change per 4 Minute Time-Window\")\n",
    "plt.show()\n"
   ]
  },
  {
   "cell_type": "markdown",
   "id": "0dcd2a68",
   "metadata": {},
   "source": [
    "These values can again be correlated with group level characteristics, or to momentary annotations regarding breakthroughs, changes in topic, etc.<br>"
   ]
  },
  {
   "cell_type": "markdown",
   "id": "b56fbccd-2264-4bd6-811d-d72f853815ef",
   "metadata": {},
   "source": [
    "## Linking turn-taking entropy to communicative success\n",
    "Ideally, we will also have some additional information about what is happening during a conversation. For example, we may have annotations regarding certain interaction events (e.g., moments of disagreement, changes in topic), or some indication of communicative success, such as in collaborative problem solving tasks. By relating such annotations to turn-taking entropy, we can learn about how the dynamics of turn-taking relate to what is actually happening during the conversation. <br>\n",
    "We'll use the open access Weights Task Dataset from Ibrahim and colleagues (2024) as an example. The data can be downloaded from: https://zenodo.org/records/10252341 <br>\n",
    "For this module, we'll focuse on the _Oracle.csv files, which provide transcriptions of all of the interactions within each group. This will allow us to calculate turn-taking (entropy) as shown above."
   ]
  },
  {
   "cell_type": "code",
   "execution_count": 11,
   "id": "ca58c537-d5e0-4847-9b5a-fcd5bc89e15a",
   "metadata": {},
   "outputs": [
    {
     "name": "stdout",
     "output_type": "stream",
     "text": [
      "{'Group_02', 'Group_03', 'Group_06', 'Group_01', 'Group_05', 'Group_09', 'Group_08', 'Group_07', 'Group_04', 'Group_10'}\n",
      "[72, 97, 90, 80, 107, 49, 133, 189, 80, 172]\n"
     ]
    }
   ],
   "source": [
    "CPS = pd.read_csv(\"All_Groups_CPS.csv\")\n",
    "\n",
    "# first get the unique group IDs\n",
    "groups = set(CPS[\"Group\"])\n",
    "# We'll look at \"constructing shared knowledge\", but this is predictive of the team's score\n",
    "CPS_cols = [colname for colname in CPS.columns if colname.startswith(\"CPS_CONST\")]\n",
    "\n",
    "constr_score = []\n",
    "\n",
    "for group in groups:\n",
    "    subset = CPS[CPS[\"Group\"] == group]\n",
    "    CPS_count = subset.count()\n",
    "    # this will be the number of events labelled as \"constructing shared knowledge\"\n",
    "    const = sum(CPS_count[CPS_cols])\n",
    "    constr_score.append(const)\n",
    "    \n",
    "print(groups)\n",
    "print(constr_score)"
   ]
  },
  {
   "cell_type": "markdown",
   "id": "12643940-39ca-48ae-a7a1-af14403505e7",
   "metadata": {},
   "source": [
    "\n",
    "Now we need to calculate the turn-taking entropy for these groups."
   ]
  },
  {
   "cell_type": "code",
   "execution_count": 12,
   "id": "c59e1464-f09c-422b-926b-bfcdbfd0820d",
   "metadata": {},
   "outputs": [],
   "source": [
    "%%capture\n",
    "import scipy.stats\n",
    "\n",
    "group_entropy = []\n",
    "\n",
    "# for each of our groups..\n",
    "for group in groups:\n",
    "    transcript = pd.read_csv(group + \"_Oracle.csv\")\n",
    "    utterances_1 = transcript[transcript[\"Participant\"] == 1]\n",
    "    utterances_1_SE = [(utterance[1][\"Start\"]*1000,utterance[1][\"End\"]*1000) for utterance in utterances_1.iterrows()]\n",
    "    utterances_2 = transcript[transcript[\"Participant\"] == 2]\n",
    "    utterances_2_SE = [(utterance[1][\"Start\"]*1000,utterance[1][\"End\"]*1000) for utterance in utterances_2.iterrows()]\n",
    "    utterances_3 = transcript[transcript[\"Participant\"] == 3]\n",
    "    utterances_3_SE = [(utterance[1][\"Start\"]*1000,utterance[1][\"End\"]*1000) for utterance in utterances_3.iterrows()]\n",
    "    \n",
    "    # ..get the turn-transition dataframes..\n",
    "    df_cps = get_multispeaker_transitions(utterances_1_SE, utterances_2_SE, utterances_3_SE)\n",
    "    \n",
    "    # .. and then calculate entropy\n",
    "    # first we need to sort this into a proper timeseries, disregarding individual IDs\n",
    "    df_cps.timestamp = pd.to_numeric(df_cps.timestamp, errors='coerce')\n",
    "    df_cps.transition_duration = pd.to_numeric(df_cps.transition_duration, errors='coerce')\n",
    "\n",
    "    sort_df = df_cps.sort_values(by=[\"timestamp\"], ascending=True)\n",
    "\n",
    "    # Calculate Approximate entropy\n",
    "    entropy = ant.sample_entropy(sort_df[\"transition_duration\"])\n",
    "    group_entropy.append(entropy)"
   ]
  },
  {
   "cell_type": "code",
   "execution_count": 13,
   "id": "8caee6d1-879a-4c65-b81e-4c4306a414a3",
   "metadata": {},
   "outputs": [],
   "source": [
    "df_cps_full = pd.DataFrame(list(zip(groups, constr_score, group_entropy)),\n",
    "                          columns = [\"group\",\"constr\",\"entropy\"])"
   ]
  },
  {
   "cell_type": "code",
   "execution_count": 14,
   "id": "a9c960fe-d963-4307-adba-104b3c8ec68b",
   "metadata": {},
   "outputs": [
    {
     "data": {
      "text/html": [
       "<div>\n",
       "<style scoped>\n",
       "    .dataframe tbody tr th:only-of-type {\n",
       "        vertical-align: middle;\n",
       "    }\n",
       "\n",
       "    .dataframe tbody tr th {\n",
       "        vertical-align: top;\n",
       "    }\n",
       "\n",
       "    .dataframe thead th {\n",
       "        text-align: right;\n",
       "    }\n",
       "</style>\n",
       "<table border=\"1\" class=\"dataframe\">\n",
       "  <thead>\n",
       "    <tr style=\"text-align: right;\">\n",
       "      <th></th>\n",
       "      <th>group</th>\n",
       "      <th>constr</th>\n",
       "      <th>entropy</th>\n",
       "    </tr>\n",
       "  </thead>\n",
       "  <tbody>\n",
       "    <tr>\n",
       "      <th>0</th>\n",
       "      <td>Group_02</td>\n",
       "      <td>72</td>\n",
       "      <td>2.120264</td>\n",
       "    </tr>\n",
       "    <tr>\n",
       "      <th>1</th>\n",
       "      <td>Group_03</td>\n",
       "      <td>97</td>\n",
       "      <td>1.821612</td>\n",
       "    </tr>\n",
       "    <tr>\n",
       "      <th>2</th>\n",
       "      <td>Group_06</td>\n",
       "      <td>90</td>\n",
       "      <td>1.838279</td>\n",
       "    </tr>\n",
       "    <tr>\n",
       "      <th>3</th>\n",
       "      <td>Group_01</td>\n",
       "      <td>80</td>\n",
       "      <td>2.019338</td>\n",
       "    </tr>\n",
       "    <tr>\n",
       "      <th>4</th>\n",
       "      <td>Group_05</td>\n",
       "      <td>107</td>\n",
       "      <td>1.734601</td>\n",
       "    </tr>\n",
       "    <tr>\n",
       "      <th>5</th>\n",
       "      <td>Group_09</td>\n",
       "      <td>49</td>\n",
       "      <td>2.014903</td>\n",
       "    </tr>\n",
       "    <tr>\n",
       "      <th>6</th>\n",
       "      <td>Group_08</td>\n",
       "      <td>133</td>\n",
       "      <td>1.989290</td>\n",
       "    </tr>\n",
       "    <tr>\n",
       "      <th>7</th>\n",
       "      <td>Group_07</td>\n",
       "      <td>189</td>\n",
       "      <td>2.065190</td>\n",
       "    </tr>\n",
       "    <tr>\n",
       "      <th>8</th>\n",
       "      <td>Group_04</td>\n",
       "      <td>80</td>\n",
       "      <td>1.820747</td>\n",
       "    </tr>\n",
       "    <tr>\n",
       "      <th>9</th>\n",
       "      <td>Group_10</td>\n",
       "      <td>172</td>\n",
       "      <td>1.945910</td>\n",
       "    </tr>\n",
       "  </tbody>\n",
       "</table>\n",
       "</div>"
      ],
      "text/plain": [
       "      group  constr   entropy\n",
       "0  Group_02      72  2.120264\n",
       "1  Group_03      97  1.821612\n",
       "2  Group_06      90  1.838279\n",
       "3  Group_01      80  2.019338\n",
       "4  Group_05     107  1.734601\n",
       "5  Group_09      49  2.014903\n",
       "6  Group_08     133  1.989290\n",
       "7  Group_07     189  2.065190\n",
       "8  Group_04      80  1.820747\n",
       "9  Group_10     172  1.945910"
      ]
     },
     "execution_count": 14,
     "metadata": {},
     "output_type": "execute_result"
    }
   ],
   "source": [
    "df_cps_full"
   ]
  },
  {
   "cell_type": "markdown",
   "id": "d2b03eaa-f0a5-4cf3-8f1a-d2a7221b1e93",
   "metadata": {},
   "source": [
    "The average entropy over each group's interaction is easy to calculate, and we may want to correlate it with other high-level chacteristics. For example, the \"constr\" score that we calculated above is a measure of how frequently a group engaged in \"constructing shared knowledge\". Is frequent co-construction of shared knowledge associated with lower entropy? <br> \n",
    "We may also be interested in whether groups that are faster at completing the task have overall lower entropy.In this case, we can simply calculate their \"time on task\" based on the last timestamp in each group's transcript.\n",
    "<br>\n",
    "<b>Try for yourself:</b><br>\n",
    "See if you can plot these associations, or even do some basic statistical analyses on these associations. Are they informative?"
   ]
  },
  {
   "cell_type": "code",
   "execution_count": 15,
   "id": "eb61a495-9522-4a49-b7aa-1f1d2286fb52",
   "metadata": {},
   "outputs": [
    {
     "data": {
      "image/png": "[encoded data removed]",
      "text/plain": [
       "<Figure size 432x288 with 1 Axes>"
      ]
     },
     "metadata": {
      "needs_background": "light"
     },
     "output_type": "display_data"
    },
    {
     "data": {
      "text/plain": [
       "SpearmanrResult(correlation=-0.15197638592001614, pvalue=0.6751243317896831)"
      ]
     },
     "execution_count": 15,
     "metadata": {},
     "output_type": "execute_result"
    }
   ],
   "source": [
    "fit = np.polyfit(df_cps_full[\"constr\"],df_cps_full[\"entropy\"],1, full=True)\n",
    "slope=fit[0][0]\n",
    "intercept=fit[0][1]\n",
    "xl = [min(df_cps_full[\"constr\"]), max(df_cps_full[\"constr\"])]\n",
    "yl = [slope*xx + intercept  for xx in xl]\n",
    "\n",
    "\n",
    "plt.scatter(df_cps_full[\"constr\"],df_cps_full[\"entropy\"])\n",
    "plt.plot(xl, yl, '-r')\n",
    "plt.title(\"Association Between 'Constructing Shared Knowledge' and Turn-Taking Entropy\")\n",
    "plt.show()\n",
    "\n",
    "scipy.stats.spearmanr(df_cps_full[\"constr\"],df_cps_full[\"entropy\"])"
   ]
  },
  {
   "cell_type": "code",
   "execution_count": 16,
   "id": "3fb07174-2ef2-445f-9c2c-f9798ce3d31b",
   "metadata": {},
   "outputs": [],
   "source": [
    "time_on_task = []\n",
    "\n",
    "for group in groups:\n",
    "    transcript = pd.read_csv(group + \"_Oracle.csv\")\n",
    "    ToT = transcript[\"End\"].iloc[-1]\n",
    "    time_on_task.append(ToT)\n",
    "    \n",
    "df_cps_full[\"ToT\"] = time_on_task  \n"
   ]
  },
  {
   "cell_type": "code",
   "execution_count": 17,
   "id": "6d49937d-bf74-413a-9e1d-cc359f93794f",
   "metadata": {},
   "outputs": [
    {
     "data": {
      "image/png": "[encoded data removed]",
      "text/plain": [
       "<Figure size 432x288 with 1 Axes>"
      ]
     },
     "metadata": {
      "needs_background": "light"
     },
     "output_type": "display_data"
    },
    {
     "data": {
      "text/plain": [
       "SpearmanrResult(correlation=-0.06666666666666665, pvalue=0.8548130882487426)"
      ]
     },
     "execution_count": 17,
     "metadata": {},
     "output_type": "execute_result"
    }
   ],
   "source": [
    "fit = np.polyfit(df_cps_full[\"ToT\"],df_cps_full[\"entropy\"],1, full=True)\n",
    "slope=fit[0][0]\n",
    "intercept=fit[0][1]\n",
    "xl = [min(df_cps_full[\"ToT\"]), max(df_cps_full[\"ToT\"])]\n",
    "yl = [slope*xx + intercept  for xx in xl]\n",
    "\n",
    "\n",
    "plt.scatter(df_cps_full[\"ToT\"],df_cps_full[\"entropy\"])\n",
    "plt.plot(xl, yl, '-r')\n",
    "plt.title(\"Association Between Time-on-Task and Turn-Taking Entropy\")\n",
    "plt.show()\n",
    "\n",
    "scipy.stats.spearmanr(df_cps_full[\"ToT\"],df_cps_full[\"entropy\"])"
   ]
  },
  {
   "cell_type": "markdown",
   "id": "6ad44220-c766-4532-b326-64bdeec746b2",
   "metadata": {},
   "source": [
    "### Entropy Over Time \n",
    "While group-level entropy is easy to calculate, we can also use a sliding window approach to see how entropy develops over time. In the previous section of this module, we calculate entropy for several subsequent time windows. This may be useful, particularly if there are particular divisions in a conversational task. However, we may want to have a smoother approach, and use a sliding window, which provides finer temporal resolution. <br>\n",
    "In this next code block, we'll calculate entropy over 60-second windows that will shift by 30-seconds, until we get to the end of the data.<br>\n",
    "<b>Important to Note:</b><br>\n",
    "While a smaller window provides finer temporal resolution, remember that turn-taking itself occurs on a particular timescale. So, your window should be large enough to capture several turn-exchanges. If the window is so small that it only ever captures 1 or 2 exchanges, the entropy values will be less informative than when you zoom out and take more data into the calculation."
   ]
  },
  {
   "cell_type": "code",
   "execution_count": 18,
   "id": "40f5a966-dc66-4d57-8283-48f1a0da03f0",
   "metadata": {},
   "outputs": [],
   "source": [
    "\n",
    "#sliding window centering on each 1 minute segment\n",
    "tt_entropy = []\n",
    "\n",
    "\n",
    "window_length = (1000*60) #written out just to make the window length easily understandable\n",
    "shift = (1000*30) # this is the amount that we will shift forward at each time step (here, it's 30 seconds)\n",
    "\n",
    "window_start =sort_df[\"timestamp\"].loc[0]\n",
    "window_end =  window_start + window_length\n",
    "while window_end < sort_df[\"timestamp\"][len(sort_df)-1]   :\n",
    "    # get data for this time window\n",
    "    window = sort_df[(sort_df[\"timestamp\"] >window_start)&(sort_df[\"timestamp\"] <window_end)]\n",
    "    if len(window) > 3:\n",
    "    # calculate permutation entropy\n",
    "        tt_entropy.append(ant.perm_entropy(window[\"transition_duration\"], normalize=True))\n",
    "    else:\n",
    "        tt_entropy.append(np.nan)\n",
    "    # shift the window forward by 30s\n",
    "    window_start = window_end - shift\n",
    "    window_end = window_start + window_length\n",
    "\n"
   ]
  },
  {
   "cell_type": "markdown",
   "id": "b309c4d0-a0aa-4d18-ad08-c30c7f1dd9c1",
   "metadata": {},
   "source": [
    "Now, let's plot the data and see how entropy changes over the course of an interaction.<br>\n",
    "<b>Try for yourself:</b><br>\n",
    "Try changing the window_length and shift variables to see how this affects the visualized pattern. "
   ]
  },
  {
   "cell_type": "code",
   "execution_count": 19,
   "id": "5940b94f-e425-477d-9e6f-38b9d3ecb789",
   "metadata": {},
   "outputs": [
    {
     "data": {
      "image/png": "[encoded data removed]",
      "text/plain": [
       "<Figure size 432x288 with 1 Axes>"
      ]
     },
     "metadata": {
      "needs_background": "light"
     },
     "output_type": "display_data"
    }
   ],
   "source": [
    "plt.scatter(list(range(0,len(tt_entropy)*30,30)),tt_entropy)\n",
    "plt.title(\"Entropy per Time-Window\")\n",
    "plt.show()"
   ]
  },
  {
   "cell_type": "markdown",
   "id": "c241c82d-d8c2-4065-8a86-109e03f193ed",
   "metadata": {},
   "source": [
    "One very useful application to having a time-course of entropy over the entire interaction, is that we can relate the entropy at specific points in the interaction to other (annotated) events. Does higher or lower entropy precede, or follow, particular events?<br>\n",
    "We'll use a very quick and dirty example, by plotting moments when a team member solved a subtask within the larger CPS interaction. "
   ]
  },
  {
   "cell_type": "code",
   "execution_count": 20,
   "id": "d05b7eed-2248-4c1e-8540-05159bff4478",
   "metadata": {},
   "outputs": [],
   "source": [
    "group_1 = CPS[CPS[\"Group\"] == \"Group_01\"]\n",
    "              \n",
    "group_1_comp = [np.floor(row[1][\"Start\"]/30) for row in group_1.iterrows() if not np.isnan(row[1][\"CPS_CONST_SharesU_CorrectSolutions\"])]"
   ]
  },
  {
   "cell_type": "code",
   "execution_count": 21,
   "id": "cd9af6bb-ad85-46c5-9d95-fc312ddc4087",
   "metadata": {},
   "outputs": [
    {
     "data": {
      "image/png": "[encoded data removed]",
      "text/plain": [
       "<Figure size 432x288 with 1 Axes>"
      ]
     },
     "metadata": {
      "needs_background": "light"
     },
     "output_type": "display_data"
    }
   ],
   "source": [
    "\n",
    "plt.scatter(range(len(tt_entropy)),tt_entropy)\n",
    "plt.vlines(group_1_comp,0,1)\n",
    "plt.title(\"Entropy per Time-Window\")\n",
    "plt.show()"
   ]
  },
  {
   "cell_type": "markdown",
   "id": "6bfd976e-1737-4641-8267-04a3a77afeb0",
   "metadata": {},
   "source": [
    "### Calculating Dynamic Instability\n",
    "While the entropy values themselves can be interesting, we may also be interested in the overal dynamic of the conversation or discussion. One way to do this is to calculate the number of moments of critical instability (Wiltshire, et al., 2021: https://doi.org/10.1109/ICHMS53169.2021.9582454), which we define as peaks in the turn-taking entropy. In other words, these are moments when the turn exchanges experience a sudden spike in instability, when the back-and-forth of conversation is highly unpredictable. These peaks are then followed by a return to a more stable (lower entropy) dynamic. \n",
    "\n",
    "We can use SciPy's find_peaks function to easily calculate this, although the height, prominence and distance values may need to be adjusted according to the way entropy is calculated. You can try to adjust these values and see how the following plot changes. Note that the orange points are considered the top of these peaks, and thus each represent a critical instability moment."
   ]
  },
  {
   "cell_type": "code",
   "execution_count": 22,
   "id": "074d3e8f-2dda-4918-b186-17cad1a994c6",
   "metadata": {},
   "outputs": [],
   "source": [
    "instability_peaks, instability_prominence = signal.find_peaks(tt_entropy, height=.4, prominence=0.2, distance=2)"
   ]
  },
  {
   "cell_type": "code",
   "execution_count": 23,
   "id": "6c275840-40c7-4bb8-9b4b-df8a88d2b1f3",
   "metadata": {},
   "outputs": [
    {
     "data": {
      "image/png": "[encoded data removed]",
      "text/plain": [
       "<Figure size 432x288 with 1 Axes>"
      ]
     },
     "metadata": {
      "needs_background": "light"
     },
     "output_type": "display_data"
    }
   ],
   "source": [
    "plt.scatter(range(len(tt_entropy)),tt_entropy)\n",
    "plt.plot(range(len(tt_entropy)),tt_entropy)\n",
    "plt.scatter(instability_peaks, instability_prominence[\"peak_heights\"])\n",
    "plt.title(\"Points of Instability\")\n",
    "plt.show()"
   ]
  },
  {
   "cell_type": "markdown",
   "id": "f3c776c2-8dd3-479e-a73a-e6e1bb9267d1",
   "metadata": {},
   "source": [
    "Here, we'll return to our earlier loop, but now also calculate the number of critical instability moments for each group."
   ]
  },
  {
   "cell_type": "code",
   "execution_count": 24,
   "id": "e94d263a-5c29-406c-9ba8-b79654be4b29",
   "metadata": {},
   "outputs": [],
   "source": [
    "%%capture\n",
    "\n",
    "group_instability_peaks = []\n",
    "\n",
    "# for each of our groups..\n",
    "for group in groups:\n",
    "    transcript = pd.read_csv(group + \"_Oracle.csv\")\n",
    "    utterances_1 = transcript[transcript[\"Participant\"] == 1]\n",
    "    utterances_1_SE = [(utterance[1][\"Start\"]*1000,utterance[1][\"End\"]*1000) for utterance in utterances_1.iterrows()]\n",
    "    utterances_2 = transcript[transcript[\"Participant\"] == 2]\n",
    "    utterances_2_SE = [(utterance[1][\"Start\"]*1000,utterance[1][\"End\"]*1000) for utterance in utterances_2.iterrows()]\n",
    "    utterances_3 = transcript[transcript[\"Participant\"] == 3]\n",
    "    utterances_3_SE = [(utterance[1][\"Start\"]*1000,utterance[1][\"End\"]*1000) for utterance in utterances_3.iterrows()]\n",
    "    \n",
    "    # ..get the turn-transition dataframes..\n",
    "    df_cps = get_multispeaker_transitions(utterances_1_SE, utterances_2_SE, utterances_3_SE)\n",
    "    \n",
    "    # .. and then calculate entropy\n",
    "    # first we need to sort this into a proper timeseries, disregarding individual IDs\n",
    "    df_cps.timestamp = pd.to_numeric(df_cps.timestamp, errors='coerce')\n",
    "    df_cps.transition_duration = pd.to_numeric(df_cps.transition_duration, errors='coerce')\n",
    "\n",
    "    sort_df = df_cps.sort_values(by=[\"timestamp\"], ascending=True)\n",
    "    \n",
    "    tt_entropy = []\n",
    "\n",
    "    window_length = (1000*60) #written out just to make the window length easily understandable\n",
    "\n",
    "    window_start =sort_df[\"timestamp\"].loc[0]\n",
    "    window_end =  window_start + window_length\n",
    "    while window_end < sort_df[\"timestamp\"][len(sort_df)-1]   :\n",
    "        # get data for this time window\n",
    "        window = sort_df[(sort_df[\"timestamp\"] >window_start)&(sort_df[\"timestamp\"] <window_end)]\n",
    "        if len(window) > 3:\n",
    "        # calculate permutation entropy\n",
    "            tt_entropy.append(ant.perm_entropy(window[\"transition_duration\"], normalize=True))\n",
    "        else:\n",
    "            tt_entropy.append(np.nan)\n",
    "        # shift the window forward by 30s\n",
    "        window_start = window_end - window_length/2 \n",
    "        window_end = window_start + window_length\n",
    "\n",
    "    instability_peaks, instability_prominence = signal.find_peaks(tt_entropy, height=.4, prominence=0.2, distance=2)\n",
    "    \n",
    "    group_instability_peaks.append(len(instability_peaks))"
   ]
  },
  {
   "cell_type": "markdown",
   "id": "2638e33d-1068-42a5-b6ba-a8f6d4831b6b",
   "metadata": {},
   "source": [
    "In team-based problem-solving tasks, moments of critical instability may be necessary changes in the dynamic of a conversation/discussion, where a team is (for example) changing strategies or trying to find a stable dynamic. Accordingly, many such changes in dynamics are likely to be associated with a longer time working on a problem. Teams that find a stable, effective dynamic with fewer such changes, will then be faster. Even without looking into what exactly is occurring during a conversation, this type of analysis can provide a first look at whether moments of critical instability are associated with how long it takes to complete a task.<br>\n",
    "<b>Try for yourself:</b><br>\n",
    "Just as above, see if you can plot the group_instability_peaks data against the time-on-task (\"ToT\") that we calculated earlier. Again, including a fit line and some basic statistics can provide an additional check on whether this critical instability is indeed a useful way to capture (the route to) collaborative communicative success."
   ]
  },
  {
   "cell_type": "code",
   "execution_count": 25,
   "id": "5817706f-8f99-4120-8b84-6ac8c87414ad",
   "metadata": {},
   "outputs": [
    {
     "data": {
      "image/png": "[encoded data removed]",
      "text/plain": [
       "<Figure size 432x288 with 1 Axes>"
      ]
     },
     "metadata": {
      "needs_background": "light"
     },
     "output_type": "display_data"
    }
   ],
   "source": [
    "fit = np.polyfit(df_cps_full[\"ToT\"], group_instability_peaks,1, full=True)\n",
    "slope=fit[0][0]\n",
    "intercept=fit[0][1]\n",
    "xl = [min(df_cps_full[\"ToT\"]), max(df_cps_full[\"ToT\"])]\n",
    "yl = [slope*xx + intercept  for xx in xl]\n",
    "\n",
    "\n",
    "plt.scatter(df_cps_full[\"ToT\"],group_instability_peaks)\n",
    "plt.plot(xl, yl, '-r')\n",
    "plt.title(\"Association Between Time-on-Task and Number of Instability Peaks\")\n",
    "plt.show()"
   ]
  }
 ],
 "metadata": {
  "kernelspec": {
   "display_name": "Python 3 (ipykernel)",
   "language": "python",
   "name": "python3"
  },
  "language_info": {
   "codemirror_mode": {
    "name": "ipython",
    "version": 3
   },
   "file_extension": ".py",
   "mimetype": "text/x-python",
   "name": "python",
   "nbconvert_exporter": "python",
   "pygments_lexer": "ipython3",
   "version": "3.7.7"
  }
 },
 "nbformat": 4,
 "nbformat_minor": 5
}
