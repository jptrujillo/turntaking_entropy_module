{
 "cells": [
  {
   "cell_type": "markdown",
   "id": "972f1380",
   "metadata": {},
   "source": [
    "<center><h1> Analyzing Multi-Party Turn-Taking Behavior </h1>\n",
    "\n",
    "\n",
    "<h3> James Trujillo ( james.trujillo@donders.ru.nl )<br>Wim Pouw ( wim.pouw@donders.ru.nl )<br>\n",
    "    18-11-2021 </h3>\n",
    "    \n",
    "<img src=\"./images/BOOTCAMP.png\"> </center>\n",
    "\n",
    "<h3> Info documents </h3>\n",
    "This module gives an introduction to analyzing the turn-taking behavior of a group of individuals. We'll use manual annotations of speech behavior, quantify the timing of turn transitions as gaps and overlaps between speakers, and look at some ways we can perform additional analyses using these data.\n",
    "<br><br>\n",
    "\n",
    "<b>Packages:</b>\n",
    "    \n",
    "* pympi\n",
    "\n",
    "* antropy\n",
    "<br><br>\n",
    " \n",
    "<b> Note on automatic utterance extraction:</b>\n",
    "This module is partially based on the processing and analysis pipeline described in a previous publication (see below). The OSF project for this article also contains code for automatically extracting and processing single utterances from the audio stream. Note that this does require separate audio streams (e.g., from separate microphones) for each speaker. Code available at:  https://osf.io/bvm56/?view_only=7165d0c25f9344a592685f4bae0c1bf7\n",
    "\n",
    "* Trujillo J.P., Levinson S.C., Holler J. (2021) Visual Information in Computer-Mediated Interaction Matters: Investigating the Association Between the Availability of Gesture and Turn Transition Timing in Conversation. In: Kurosu M. (eds) Human-Computer Interaction. Design and User Experience Case Studies. HCII 2021. Lecture Notes in Computer Science, vol 12764. Springer, Cham. https://doi.org/10.1007/978-3-030-78468-3_44\n",
    "Open Access link: https://pure.mpg.de/rest/items/item_3347812/component/file_3347813/content\n",
    "\n",
    "* Module citation: \n",
    "Trujillo, J.P. & Pouw, W.T.J.L.  (2021-11-18). <i> Analyzing Multi-Party Turn-Taking Behavior </i> \\[day you visited the site]. Retrieved from: https://github.com/WimPouw/EnvisionBootcamp2021/tree/main/Python/MediaBodyTracking \n",
    "<br>\n",
    "\n",
    "<h3>Introduction</h3>\n",
    "Turn-taking is a fundamental aspect of human communication, and takes place quite rapidly, with turn transitions (i.e., the time between one speaker's utterance ending and the next speaker's utterance beginning) often on the scale of ~200ms (Stivers et al., doi:10.1073pnas.0903616106%20pna/). This timing is important not only for fast-pace information exchange, but is socially meaningful, as longer-than-expected inter-speaker gaps can be interpreted as signalling a dispreferred response (Kendrick & Torreira 2015  doi: 10.1080/0163853X.2014.955997). <br>\n",
    "Beyond theoretical interest, quantifying turn-taking behavior can be interesting for understanding group dynamics. One study suggests that smoother turn transitions (i.e., shorter gaps, shorter overlaps) are more associated with collaborative behaviors compared to conflict behaviors (Kim et al., 2015, INTERSPEECH). Similarly, Pincus & Guastello (2005; DOI: 10.1177/1046496405280864) used non-linear dynamics approaches to show that information theoretic patterns in turn-taking behavior correlate with self-report measures of group dynamics (e.g., leadership, conflict). "
   ]
  },
  {
   "cell_type": "code",
   "execution_count": 7,
   "id": "af2cbf43-f69b-447b-b10b-1b61be8569a4",
   "metadata": {},
   "outputs": [
    {
     "data": {
      "text/html": [
       "<iframe width=\"936\" height=\"527\" src=\"https://www.youtube.com/embed/s-XV4GCSjtc?start=10437\" title=\"YouTube video player\" frameborder=\"0\" allow=\"accelerometer; autoplay; clipboard-write; encrypted-media; gyroscope; picture-in-picture\" allowfullscreen></iframe>"
      ],
      "text/plain": [
       "<IPython.core.display.HTML object>"
      ]
     },
     "execution_count": 7,
     "metadata": {},
     "output_type": "execute_result"
    }
   ],
   "source": [
    "from IPython.display import HTML\n",
    "\n",
    "HTML('<iframe width=\"936\" height=\"527\" src=\"https://www.youtube.com/embed/s-XV4GCSjtc?start=10437\" title=\"YouTube video player\" frameborder=\"0\" allow=\"accelerometer; autoplay; clipboard-write; encrypted-media; gyroscope; picture-in-picture\" allowfullscreen></iframe>')"
   ]
  },
  {
   "cell_type": "code",
   "execution_count": 66,
   "id": "5f343cc2",
   "metadata": {},
   "outputs": [],
   "source": [
    "from parselmouth.praat import call\n",
    "import os\n",
    "import pympi\n",
    "from tabulate import tabulate\n",
    "import numpy as np\n",
    "import pandas as pd\n",
    "import matplotlib.pyplot as plt\n"
   ]
  },
  {
   "cell_type": "code",
   "execution_count": 68,
   "id": "28ba3432",
   "metadata": {},
   "outputs": [],
   "source": [
    " \n",
    "    \n",
    "    \n",
    "def get_multispeaker_transitions(utterances_1, utterances_2, utterances_3):\n",
    "    # set max distance between them to be 2s, then find the closest occurence in\n",
    "    # second dataframe. Max distance is based on Heldner & Edlund 2010\n",
    "    # output times are in ms\n",
    "    \n",
    "    speaker_count = 3\n",
    "    if not utterances_1:\n",
    "        speaker_count -=1\n",
    "    if not utterances_2:\n",
    "        speaker_count -=1\n",
    "    if not utterances_3:\n",
    "        speaker_count -=1\n",
    "    \n",
    "    if speaker_count < 2: \n",
    "        trans_dur = np.nan\n",
    "        gap_dur = np.nan\n",
    "        utterance_time_trans = np.nan\n",
    "        utterance_time_gap = np.nan\n",
    "    else:\n",
    "        trans_dur1, gap_dur1, utterance_time_trans1, utterance_time_gap1, overlap_dur1, utterance_time_overlap1,timestamp1 = get_gaps_overlaps(\n",
    "          utterances_1, utterances_2, utterances_3)\n",
    "        trans_dur2, gap_dur2, utterance_time_trans2, utterance_time_gap2, overlap_dur2, utterance_time_overlap2,timestamp2 = get_gaps_overlaps(\n",
    "          utterances_2, utterances_1, utterances_3) \n",
    "        trans_dur3, gap_dur3, utterance_time_trans3, utterance_time_gap3, overlap_dur3, utterance_time_overlap3,timestamp3 = get_gaps_overlaps(\n",
    "          utterances_3, utterances_2, utterances_1) \n",
    "        \n",
    "    \n",
    "        print(\"Turn Transition Statistics for Participant 1\")\n",
    "        get_turn_trans_stats(trans_dur1,gap_dur1, overlap_dur1)\n",
    "        print(\"Turn Transition Statistics for Participant 2\")\n",
    "        get_turn_trans_stats(trans_dur2,gap_dur2, overlap_dur2)\n",
    "        print(\"Turn Transition Statistics for Participant 3\")\n",
    "        get_turn_trans_stats(trans_dur3,gap_dur3, overlap_dur3)\n",
    "        \n",
    "        # these will be used in the dataframe to indicate which speaker we're talking about\n",
    "        p1 = [\"1\"]*len(trans_dur1)\n",
    "        p2 = [\"2\"]*len(trans_dur2)\n",
    "        p3 = [\"3\"]*len(trans_dur3)\n",
    "        \n",
    "        participant = p1 + p2 + p3\n",
    "        timestamp = timestamp1 + timestamp2 + timestamp3\n",
    "\n",
    "        # now we need to stack the utterance data\n",
    "        trans_dur = trans_dur1 + trans_dur2 + trans_dur3\n",
    "        utterance_time_trans = utterance_time_trans1 + utterance_time_trans2 + utterance_time_trans3\n",
    "        \n",
    "        df = pd.DataFrame(np.column_stack([participant,timestamp,trans_dur, utterance_time_trans]),\n",
    "                               columns=['participant', 'timestamp','transition_duration','utterance_duration']\n",
    "                               )\n",
    "        \n",
    "        return df\n",
    "        \n",
    "        \n",
    "def get_gaps_overlaps(utterances_1, utterances_2, utterances_3):\n",
    "    # this gets the utterance and turn-transition speaker from the perspective of one speaker\n",
    "    # It doesn't matter what order the second two are in, as we just care about the averages in \n",
    "    # the end anyway\n",
    "    trans_dur = []\n",
    "    utterance_time_trans = []\n",
    "    timestamp=[]\n",
    "\n",
    "    for u_idx,u in enumerate(utterances_1):\n",
    "        # here we want to get the difference between this utterance's offset (u[1]) and all onsets from the other two speakers\n",
    "        diffs2 = [abs(u[1] - u2[0]) for u2 in utterances_2]\n",
    "        diffs3 = [abs(u[1] - u3[0]) for u3 in utterances_3]\n",
    "\n",
    "        min_dif2 = np.argmin(diffs2)\n",
    "        min_dif3 = np.argmin(diffs3)        \n",
    "\n",
    "        # also get within-speaker differences\n",
    "        # we get this to make sure our inter-speaker differences are less than this\n",
    "        # otherwise, we may not be getting the turn transition from this utterance\n",
    "        if u_idx < len(utterances_1)-1:\n",
    "            min_pause = utterances_1[u_idx+1][0] - u[1]\n",
    "        else:\n",
    "            # if this is not the last utterance, we ignore this\n",
    "            min_pause = min([diffs2[min_dif2],diffs3[min_dif3]]) +1\n",
    "        # is there an utterance from p2 or p3 starting within 2s of this utterance from p1?\n",
    "\n",
    "        if diffs2[min_dif2] < 2000 and diffs2[min_dif2] < min_pause:\n",
    "            trans_dur.append(int(utterances_2[min_dif2][0] - u[1]))\n",
    "            utterance_time_trans.append(int(utterances_1[u_idx][1] - utterances_1[u_idx][0]))\n",
    "            timestamp.append(int(utterances_2[min_dif2][0]))\n",
    "        if diffs3[min_dif3] < 2000 and diffs3[min_dif3] < min_pause:\n",
    "            trans_dur.append(int(utterances_3[min_dif3][0] - u[1]))\n",
    "            utterance_time_trans.append(int(utterances_1[u_idx][1] - utterances_1[u_idx][0]))\n",
    "            timestamp.append(int(utterances_3[min_dif3][0]))\n",
    "            \n",
    "    # finally, we want to separate these values into gaps and overlaps\n",
    "    gap_dur = []\n",
    "    overlap_dur = []\n",
    "    utterance_time_gap = []\n",
    "    utterance_time_overlap = []\n",
    "    for idx, val in enumerate(trans_dur):\n",
    "        if val > 0:\n",
    "            gap_dur.append(val)\n",
    "            utterance_time_gap.append(int(utterance_time_trans[idx]))\n",
    "        elif val <= 0:\n",
    "            overlap_dur.append(val)\n",
    "            utterance_time_overlap.append(int(utterance_time_trans[idx]))\n",
    "\n",
    "    return trans_dur, gap_dur, utterance_time_trans, utterance_time_gap, overlap_dur, utterance_time_overlap,timestamp\n",
    "        "
   ]
  },
  {
   "cell_type": "markdown",
   "id": "48107607",
   "metadata": {},
   "source": [
    "This function just gets us some summary stats for the turn taking behavior"
   ]
  },
  {
   "cell_type": "code",
   "execution_count": 5,
   "id": "cd41d83c",
   "metadata": {},
   "outputs": [],
   "source": [
    "def get_turn_trans_stats(transitions, gaps, overlaps):\n",
    "    if transitions and not np.all(np.isnan(transitions)):\n",
    "        Gap_freq = len(gaps)/len(transitions)\n",
    "        Overlap_freq = len(overlaps)/len(transitions)\n",
    "    else:\n",
    "        Gap_freq = 0\n",
    "        Overlap_freq = 0\n",
    "    turn_data = [['turn transition mean', np.mean(transitions)],\n",
    "                 ['turn transition SD', np.std(transitions)],\n",
    "                 ['turn transition median',np.median(transitions)],\n",
    "                 ['Gap mean', np.mean(gaps)],\n",
    "                 ['Gap SD',np.std(gaps)],\n",
    "                 ['Gap median',  np.median(gaps)],\n",
    "                 ['Gap freq. (%)',Gap_freq],\n",
    "                 ['Overlap mean', np.mean(overlaps)],\n",
    "                 ['Overlap SD',np.std(overlaps)],\n",
    "                 ['Overlap median',  np.median(overlaps)],\n",
    "                 ['Overlap freq. (%)',Overlap_freq],]\n",
    "    \n",
    "    print(tabulate(turn_data, headers=['Stat','Value']))"
   ]
  },
  {
   "cell_type": "code",
   "execution_count": 69,
   "id": "3adc658b",
   "metadata": {},
   "outputs": [
    {
     "name": "stdout",
     "output_type": "stream",
     "text": [
      "Turn Transition Statistics for Participant 1\n",
      "Stat                          Value\n",
      "----------------------  -----------\n",
      "turn transition mean       4.25794\n",
      "turn transition SD       667.521\n",
      "turn transition median    25\n",
      "Gap mean                 439.965\n",
      "Gap SD                   439.934\n",
      "Gap median               304.5\n",
      "Gap freq. (%)              0.563492\n",
      "Overlap mean            -558.2\n",
      "Overlap SD               457.736\n",
      "Overlap median          -494\n",
      "Overlap freq. (%)          0.436508\n",
      "Turn Transition Statistics for Participant 2\n",
      "Stat                          Value\n",
      "----------------------  -----------\n",
      "turn transition mean      42.6245\n",
      "turn transition SD       688.131\n",
      "turn transition median    49\n",
      "Gap mean                 435.401\n",
      "Gap SD                   467.993\n",
      "Gap median               249\n",
      "Gap freq. (%)              0.601533\n",
      "Overlap mean            -550.317\n",
      "Overlap SD               522.741\n",
      "Overlap median          -389\n",
      "Overlap freq. (%)          0.398467\n",
      "Turn Transition Statistics for Participant 3\n",
      "Stat                          Value\n",
      "----------------------  -----------\n",
      "turn transition mean     -89.9789\n",
      "turn transition SD       789.032\n",
      "turn transition median    18\n",
      "Gap mean                 457.444\n",
      "Gap SD                   468.884\n",
      "Gap median               332\n",
      "Gap freq. (%)              0.523207\n",
      "Overlap mean            -690.69\n",
      "Overlap SD               612.205\n",
      "Overlap median          -467\n",
      "Overlap freq. (%)          0.476793\n"
     ]
    }
   ],
   "source": [
    "annot_dir = \"./annotations/\" \n",
    "\n",
    "annotation_files = os.listdir(annot_dir)\n",
    "eafob = pympi.Elan.Eaf(annot_dir + annotation_files[0])\n",
    "\n",
    "\n",
    "utterances_1 = [annotation for annotation in eafob.get_annotation_data_for_tier(\"Participant1\")]\n",
    "utterances_2 = [annotation for annotation in eafob.get_annotation_data_for_tier(\"Participant2\")]\n",
    "utterances_3 = [annotation for annotation in eafob.get_annotation_data_for_tier(\"Participant3\")]\n",
    "\n",
    "df = get_multispeaker_transitions(utterances_1, utterances_2, utterances_3)"
   ]
  },
  {
   "cell_type": "code",
   "execution_count": 85,
   "id": "6906ac05",
   "metadata": {},
   "outputs": [
    {
     "data": {
      "image/png": "[encoded data removed]",
      "text/plain": [
       "<Figure size 432x288 with 1 Axes>"
      ]
     },
     "metadata": {
      "needs_background": "light"
     },
     "output_type": "display_data"
    }
   ],
   "source": [
    "df.transition_duration = pd.to_numeric(df.transition_duration, errors='coerce')\n",
    "\n",
    "# plotting\n",
    "tt_1 = df[df[\"participant\"]==\"1\"][\"transition_duration\"]\n",
    "tt_2 = df[df[\"participant\"]==\"2\"][\"transition_duration\"]\n",
    "tt_3 = df[df[\"participant\"]==\"3\"][\"transition_duration\"]\n",
    "plt.hist([tt_1,tt_2,tt_3], \n",
    "         alpha=0.5, bins=25, \n",
    "         label=[\"speaker 1\",\"speaker 2\",\"speaker 3\"])\n",
    "plt.legend(loc='upper right')\n",
    "plt.show()\n"
   ]
  },
  {
   "cell_type": "markdown",
   "id": "3a1825cf",
   "metadata": {},
   "source": [
    "The above output shows the turn transition information for each person in our interaction. Remember that each of the values are based on the transitions <i>from</i> this speaker's uterance. So for example, speaker 1 has a gap frequency of 56%, and an overlap frequency of 66%. This means that when speaker 1 finishes an utterance, s/he is \"interrupted\" 44% of the time (on average by 558ms), but typically there is a gap of 439ms before the next speaker begins their untterance. <br>\n",
    "This information can already be useful for looking into how individual speakers behave with one another. One way to proceed with this data would be to simply take these summary values, per individual, per group, and statistically compare groups with one another. Do certain groups have smoother turn transition timings? We can also correlate the turn timings with other information, such as KAI scores. "
   ]
  },
  {
   "cell_type": "markdown",
   "id": "a02f8733",
   "metadata": {},
   "source": [
    "<b>Entropy of Turn Timing</b><br>\n",
    "Another way to capture the dynamics of turn-taking behavior is to look at Approximate Entropy. In order to have an idea of what this provides us, let's consider the statistics output above. In a perfectly 'stable' back-and-forth interaction, each turn transition could be approximately 36ms, across the entire interaction. We would then get a mean turn transition time of 4ms, with a SD of 667ms (as seen above for speaker 1 -- reflecting the tendency around 0). However, it may be that these values change over the course of the interaction, and knowing the mean won't necessarily let you accurately predict the next transition time. The latter case is an example of higher entropy. "
   ]
  },
  {
   "cell_type": "code",
   "execution_count": 41,
   "id": "5715d883",
   "metadata": {},
   "outputs": [],
   "source": [
    "import antropy as ant"
   ]
  },
  {
   "cell_type": "code",
   "execution_count": 61,
   "id": "4b84fcd4",
   "metadata": {},
   "outputs": [
    {
     "data": {
      "text/html": [
       "<div>\n",
       "<style scoped>\n",
       "    .dataframe tbody tr th:only-of-type {\n",
       "        vertical-align: middle;\n",
       "    }\n",
       "\n",
       "    .dataframe tbody tr th {\n",
       "        vertical-align: top;\n",
       "    }\n",
       "\n",
       "    .dataframe thead th {\n",
       "        text-align: right;\n",
       "    }\n",
       "</style>\n",
       "<table border=\"1\" class=\"dataframe\">\n",
       "  <thead>\n",
       "    <tr style=\"text-align: right;\">\n",
       "      <th></th>\n",
       "      <th>participant</th>\n",
       "      <th>timestamp</th>\n",
       "      <th>transition_duration</th>\n",
       "      <th>utterance_duration</th>\n",
       "    </tr>\n",
       "  </thead>\n",
       "  <tbody>\n",
       "    <tr>\n",
       "      <th>0</th>\n",
       "      <td>1</td>\n",
       "      <td>10810</td>\n",
       "      <td>20</td>\n",
       "      <td>1310</td>\n",
       "    </tr>\n",
       "    <tr>\n",
       "      <th>89</th>\n",
       "      <td>2</td>\n",
       "      <td>11525</td>\n",
       "      <td>5</td>\n",
       "      <td>710</td>\n",
       "    </tr>\n",
       "    <tr>\n",
       "      <th>90</th>\n",
       "      <td>2</td>\n",
       "      <td>31950</td>\n",
       "      <td>-100</td>\n",
       "      <td>990</td>\n",
       "    </tr>\n",
       "    <tr>\n",
       "      <th>91</th>\n",
       "      <td>2</td>\n",
       "      <td>41530</td>\n",
       "      <td>70</td>\n",
       "      <td>5960</td>\n",
       "    </tr>\n",
       "    <tr>\n",
       "      <th>1</th>\n",
       "      <td>1</td>\n",
       "      <td>42985</td>\n",
       "      <td>165</td>\n",
       "      <td>1290</td>\n",
       "    </tr>\n",
       "  </tbody>\n",
       "</table>\n",
       "</div>"
      ],
      "text/plain": [
       "   participant  timestamp  transition_duration utterance_duration\n",
       "0            1      10810                   20               1310\n",
       "89           2      11525                    5                710\n",
       "90           2      31950                 -100                990\n",
       "91           2      41530                   70               5960\n",
       "1            1      42985                  165               1290"
      ]
     },
     "execution_count": 61,
     "metadata": {},
     "output_type": "execute_result"
    }
   ],
   "source": [
    "# first we need to sort this into a proper timeseries, disregarding individual IDs\n",
    "df.timestamp = pd.to_numeric(df.timestamp, errors='coerce')\n",
    "df.transition_duration = pd.to_numeric(df.transition_duration, errors='coerce')\n",
    "\n",
    "sort_df = df.sort_values(by=[\"timestamp\"], ascending=True)\n",
    "\n",
    "sort_df.head()"
   ]
  },
  {
   "cell_type": "code",
   "execution_count": 47,
   "id": "704d7683",
   "metadata": {},
   "outputs": [
    {
     "name": "stdout",
     "output_type": "stream",
     "text": [
      "2.199106045435925\n"
     ]
    }
   ],
   "source": [
    "# Calculate Approximate entropy\n",
    "print(ant.sample_entropy(sort_df[\"transition_duration\"]))"
   ]
  },
  {
   "cell_type": "markdown",
   "id": "41d97a7c",
   "metadata": {},
   "source": [
    "Aside from the general entropy across the whole session, which we could compare across groups or correlate with personal or group characteristics, we can also look at the change in entropy over time. We'll split the session into 4 minute windows to assess entropy across the session.<br>\n",
    "\n",
    "For the analysis, we'll use the categorical data corresponding to the \"transitioning speaker\" and calculate Permutation Entropy. Permutation entropy captures the ordering of values in a time-series. In this case, we want the complexity with which the group switches from one speaker to the next. Is it always speaker 1 followed by speaker 2, and vice versa? This would be low entropy. Or do we see all possible orders; speaker 3, then 1, followed by 3 again, then 2.. The more unpredictable the switching, the higher the entropy.<br>"
   ]
  },
  {
   "cell_type": "code",
   "execution_count": 65,
   "id": "57f4d644",
   "metadata": {},
   "outputs": [
    {
     "data": {
      "image/png": "[encoded data removed]",
      "text/plain": [
       "<Figure size 432x288 with 1 Axes>"
      ]
     },
     "metadata": {
      "needs_background": "light"
     },
     "output_type": "display_data"
    }
   ],
   "source": [
    "tt_entropy = []\n",
    "\n",
    "window_length = (1000*60)*4 #written out just to make the window length easily understandable\n",
    "\n",
    "window_start = 0\n",
    "window_end = window_length \n",
    "while window_end < sort_df[\"timestamp\"][len(sort_df)-1]   :\n",
    "    # get data for this time window\n",
    "    window = sort_df[(sort_df[\"timestamp\"] >window_start)&(sort_df[\"timestamp\"] <window_end)]\n",
    "    # calculate permutation entropy\n",
    "    tt_entropy.append(ant.perm_entropy(window[\"participant\"], normalize=True))\n",
    "    # shift the window forward\n",
    "    window_start = window_end\n",
    "    window_end += window_length\n",
    "    \n",
    "# now plot the entropy over time\n",
    "plt.scatter([\"1-4\",\"5-8\",\"9-11\",\"12-15\",\"16-19\"],tt_entropy)\n",
    "plt.title(\"Entropy per 4 Minute Time-Window\")\n",
    "plt.show()\n"
   ]
  },
  {
   "cell_type": "markdown",
   "id": "0dcd2a68",
   "metadata": {},
   "source": [
    "These values can again be correlated with group level characteristics, or to momentary annotations regarding breakthroughs, changes in topic, etc.<br>"
   ]
  },
  {
   "cell_type": "code",
   "execution_count": null,
   "id": "3624f882",
   "metadata": {},
   "outputs": [],
   "source": []
  }
 ],
 "metadata": {
  "kernelspec": {
   "display_name": "Python 3",
   "language": "python",
   "name": "python3"
  },
  "language_info": {
   "codemirror_mode": {
    "name": "ipython",
    "version": 3
   },
   "file_extension": ".py",
   "mimetype": "text/x-python",
   "name": "python",
   "nbconvert_exporter": "python",
   "pygments_lexer": "ipython3",
   "version": "3.7.6"
  }
 },
 "nbformat": 4,
 "nbformat_minor": 5
}
